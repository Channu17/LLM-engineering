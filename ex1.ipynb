{
 "cells": [
  {
   "cell_type": "code",
   "execution_count": 1,
   "metadata": {},
   "outputs": [],
   "source": [
    "import requests\n",
    "from bs4 import BeautifulSoup"
   ]
  },
  {
   "cell_type": "code",
   "execution_count": 4,
   "metadata": {},
   "outputs": [],
   "source": [
    "OLLAMA_API = \"http://localhost:11434/api/chat\"\n",
    "HEADERS = {\"Content-Type\" : \"application/json\"}\n",
    "MODEL = \"llama3.2:1b\""
   ]
  },
  {
   "cell_type": "code",
   "execution_count": 5,
   "metadata": {},
   "outputs": [],
   "source": [
    "messages = [{\"role\":\"user\", \"content\":\"Describe some of the applications of Generative AI\"}]"
   ]
  },
  {
   "cell_type": "code",
   "execution_count": 6,
   "metadata": {},
   "outputs": [],
   "source": [
    "payload = {\n",
    "    \"model\" : MODEL, \n",
    "    \"messages\" : messages, \n",
    "    \"stream\" : False\n",
    "}"
   ]
  },
  {
   "cell_type": "code",
   "execution_count": 7,
   "metadata": {},
   "outputs": [
    {
     "name": "stdout",
     "output_type": "stream",
     "text": [
      "Generative AI has a wide range of applications across various industries. Here are some examples:\n",
      "\n",
      "1. **Art and Design**: Generative AIs can create original artwork, music, and even entire albums. For instance, AI-generated art has gained popularity on social media platforms like Instagram and TikTok.\n",
      "\n",
      "2. **Content Creation**: Generative AIs can help with content generation, such as blog posts, articles, and even entire books. This can save time and effort for writers and editors.\n",
      "\n",
      "3. **Virtual Assistants**: Some Generative AIs, like chatbots and virtual assistants, can generate text responses to user queries, making customer service more efficient.\n",
      "\n",
      "4. **Product Design**: Generative AIs can design products, such as furniture, homes, and even entire buildings. This can help architects, engineers, and product designers streamline their processes.\n",
      "\n",
      "5. **Image Editing**: Generative AIs can edit images by removing or manipulating objects without being explicitly programmed to do so. This has applications in photo editing, medical imaging, and more.\n",
      "\n",
      "6. **Language Translation**: Generative AIs can translate text and speech in real-time, improving language translation accuracy and efficiency.\n",
      "\n",
      "7. **Game Development**: Generative AIs are used in game development to create procedural content, such as levels, enemies, and even entire games.\n",
      "\n",
      "8. **Music Composition**: Some Generative AIs, like Amper Music, can compose original music tracks for films, TV shows, and video games.\n",
      "\n",
      "9. **Fashion Design**: Generative AIs can design clothing, accessories, and even entire fashion collections. This can help reduce the time and cost associated with designing and producing new clothes.\n",
      "\n",
      "10. **Scientific Research**: Generative AIs can analyze large datasets, identify patterns, and even generate hypotheses for scientific research.\n",
      "\n",
      "11. **Environmental Modeling**: Generative AIs can simulate complex environmental systems, such as climate models, weather patterns, and even entire ecosystems.\n",
      "\n",
      "12. **Healthcare**: Generative AIs can help with medical imaging analysis, disease diagnosis, and personalized treatment plans.\n",
      "\n",
      "13. **Education**: Generative AIs can create interactive educational content, such as videos, quizzes, and games, to enhance learning experiences.\n",
      "\n",
      "14. **Travel Planning**: Generative AIs can suggest itineraries based on user preferences, interests, and travel history.\n",
      "\n",
      "15. **Social Media Management**: Generative AIs can automate social media posting, engagement, and even content moderation.\n",
      "\n",
      "These are just a few examples of the many applications of Generative AI. As the technology continues to evolve, we can expect to see even more innovative uses across various industries.\n"
     ]
    }
   ],
   "source": [
    "response = requests.post(OLLAMA_API, json = payload, headers = HEADERS)\n",
    "print(response.json()['message']['content'])"
   ]
  },
  {
   "cell_type": "code",
   "execution_count": 8,
   "metadata": {},
   "outputs": [
    {
     "name": "stdout",
     "output_type": "stream",
     "text": [
      "Generative AI, also known as artificial general intelligence (AGI), has a wide range of potential applications across various industries. Here are some examples:\n",
      "\n",
      "1. **Artificial Designers**: Generative AI can create novel designs for products, architecture, and even fashion by combining existing styles and elements in new ways.\n",
      "2. **Content Generation**: AI-powered generators can produce high-quality text articles, social media posts, and other types of content quickly and efficiently, reducing the need for human writers.\n",
      "3. **Virtual Assistants**: Generative AI can be used to create conversational interfaces that learn and adapt to user preferences, improving customer service and experience.\n",
      "4. **Image and Video Generation**: AI algorithms can generate realistic images and videos from scratch, paving the way for new forms of artistic expression and entertainment.\n",
      "5. **Music Composition**: Generative AI can create original music by combining patterns and styles in novel ways, leading to new genres and sounds.\n",
      "6. **Product Recommendations**: AI-powered generators can suggest products based on user preferences and browsing history, improving e-commerce experiences.\n",
      "7. **Language Translation**: Generative AI can translate languages in real-time, breaking down language barriers and enabling global communication.\n",
      "8. **Fashion Design**: AI algorithms can generate new fashion designs by analyzing trends, patterns, and styles in existing clothing items.\n",
      "9. **Healthcare**: Generative AI can help create personalized treatment plans, diagnose diseases, and develop new medical treatments.\n",
      "10. **Education**: AI-powered generators can create interactive learning materials, such as quizzes, games, and tutorials, making education more engaging and effective.\n",
      "11. **Image Editing**: Generative AI can automatically edit images by applying filters, effects, and styles, opening up new possibilities for photo editing and manipulation.\n",
      "12. **Natural Language Processing (NLP)**: Generative AI can improve NLP capabilities by generating human-like text, speech, and even audio content.\n",
      "\n",
      "These are just a few examples of the many applications of generative AI. As the technology continues to evolve, we can expect to see even more innovative uses in various industries.\n"
     ]
    }
   ],
   "source": [
    "import ollama\n",
    "\n",
    "response = ollama.chat(MODEL, messages)\n",
    "print(response['message']['content'])"
   ]
  },
  {
   "cell_type": "code",
   "execution_count": null,
   "metadata": {},
   "outputs": [],
   "source": []
  }
 ],
 "metadata": {
  "kernelspec": {
   "display_name": "llmenv",
   "language": "python",
   "name": "python3"
  },
  "language_info": {
   "codemirror_mode": {
    "name": "ipython",
    "version": 3
   },
   "file_extension": ".py",
   "mimetype": "text/x-python",
   "name": "python",
   "nbconvert_exporter": "python",
   "pygments_lexer": "ipython3",
   "version": "3.11.0"
  }
 },
 "nbformat": 4,
 "nbformat_minor": 2
}
